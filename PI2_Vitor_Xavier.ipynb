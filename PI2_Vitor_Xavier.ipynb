{
 "cells": [
  {
   "cell_type": "code",
   "execution_count": 1,
   "metadata": {},
   "outputs": [],
   "source": [
    "from pyspark import SparkContext, SparkConf\n",
    "import findspark\n",
    "import math\n",
    "#Nome da aplicação. Identifica a aplicação no gerenciador do cluster\n",
    "appName = 'Parte_A'"
   ]
  },
  {
   "cell_type": "code",
   "execution_count": 2,
   "metadata": {},
   "outputs": [],
   "source": [
    "#Configuração do ambiente\n",
    "findspark.init()\n",
    "conf = SparkConf().setMaster('local').setAppName(appName)\n",
    "conf.set('spark.executor.memory', '2G')\n",
    "sc = SparkContext(conf=conf)\n",
    "sc._jsc.hadoopConfiguration().set('textinputformat.record.delimiter', '\\n\\n')"
   ]
  },
  {
   "cell_type": "code",
   "execution_count": 9,
   "metadata": {},
   "outputs": [],
   "source": [
    "#Criação de um RDD\n",
    "def mapPairs(rdd):\n",
    "    reg = json.loads(rdd)\n",
    "    aux = []\n",
    "    for key in reg.keys():\n",
    "        if(key == \"reviews\"):\n",
    "            for r in reg[key]:\n",
    "                aux.append((reg['id'], (\"review\", r)))\n",
    "        elif(key == \"similar_items\"):\n",
    "            for s in reg[key]:\n",
    "                aux.append((reg[\"id\"], (\"similar\", s)))\n",
    "        else:\n",
    "            aux.append(((reg[\"id\"], (key, reg[key]))))\n",
    "    return aux\n",
    "\n",
    "lines = sc.textFile(\"data-json\").flatMap(mapPairs).cache()"
   ]
  },
  {
   "cell_type": "code",
   "execution_count": 4,
   "metadata": {},
   "outputs": [
    {
     "data": {
      "text/plain": [
       "'\\nrdd = lines.flatMap(lambda line: line.split(\" \"))\\nwords = rdd.map(lambda word: (word, 1))\\ncounts = words.reduceByKey(lambda a, b: a + b)\\ncounts.saveAsTextFile(\"counters\")\\n'"
      ]
     },
     "execution_count": 4,
     "metadata": {},
     "output_type": "execute_result"
    }
   ],
   "source": [
    "#id do ASIN de um produto\n",
    "id_asin = '0738700797'\n",
    "\n",
    "'''\n",
    "rdd = lines.flatMap(lambda line: line.split(\" \"))\n",
    "words = rdd.map(lambda word: (word, 1))\n",
    "counts = words.reduceByKey(lambda a, b: a + b)\n",
    "counts.saveAsTextFile(\"counters\")\n",
    "'''"
   ]
  },
  {
   "cell_type": "code",
   "execution_count": null,
   "metadata": {},
   "outputs": [],
   "source": [
    "#questao b\n",
    "pos_similares = []                                              \n",
    "maior_venda = []\n",
    "\n",
    "rdd_sales = lines.filter(lambda line: \"salesrank: \" in line)\n",
    "sales_list = rdd_sales.collect()\n",
    "\n",
    "asin = lines.filter(lambda item: 'ASIN: ' in item)\n",
    "asin = asin.map(lambda item: item.split()[3])\n",
    "asin = asin.collect()  \n",
    "pos = asin.index(id_asin)-1 \n",
    "\n",
    "similar = lines.filter(lambda item: 'similar: ' in item)\n",
    "similar = similar.collect()    \n",
    "\n",
    "prod_sim = similar[pos].split(\"similar: \")[1] \n",
    "prod_similares = prod_sim.split()                  \n",
    "\n",
    "\n",
    "for i in range(len(prod_similares)-1):\n",
    "    pos_similares.append(asin.index(prod_similares[i+1]) )    \n",
    "\n",
    "for i in range(len(pos_similares)):\n",
    "    if(int(sales_list[pos_similares[i]].split()[1]) < int(sales_list[pos].split()[1]) ):\n",
    "        maior_venda.append(\"ASIN: \"+asin[pos_similares[i+1]] + sales_list[ pos_similares[i] ] )\n",
    "\n",
    "print(maior_venda)"
   ]
  },
  {
   "cell_type": "code",
   "execution_count": 10,
   "metadata": {},
   "outputs": [
    {
     "name": "stdout",
     "output_type": "stream",
     "text": [
      "Digite o id do produto a ser procurado: 2\n"
     ]
    }
   ],
   "source": [
    "id = input(\"Digite o id do produto a ser procurado: \")"
   ]
  },
  {
   "cell_type": "code",
   "execution_count": null,
   "metadata": {},
   "outputs": [],
   "source": [
    "from pprint import pprint\n",
    "similar_with_input = lines.filter(lambda x: x[0] == id and x[1][0] == \"similar\")\n",
    "\n",
    "pprint(similar_with_input.collect())\n"
   ]
  },
  {
   "cell_type": "code",
   "execution_count": null,
   "metadata": {},
   "outputs": [],
   "source": []
  },
  {
   "cell_type": "code",
   "execution_count": null,
   "metadata": {},
   "outputs": [],
   "source": []
  }
 ],
 "metadata": {
  "kernelspec": {
   "display_name": "Python 3",
   "language": "python",
   "name": "python3"
  },
  "language_info": {
   "codemirror_mode": {
    "name": "ipython",
    "version": 3
   },
   "file_extension": ".py",
   "mimetype": "text/x-python",
   "name": "python",
   "nbconvert_exporter": "python",
   "pygments_lexer": "ipython3",
   "version": "3.6.9"
  }
 },
 "nbformat": 4,
 "nbformat_minor": 4
}
