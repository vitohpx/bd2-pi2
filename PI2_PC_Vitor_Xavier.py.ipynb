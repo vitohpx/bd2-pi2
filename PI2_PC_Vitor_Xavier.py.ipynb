{
 "cells": [
  {
   "cell_type": "code",
   "execution_count": 1,
   "metadata": {},
   "outputs": [],
   "source": [
    "#O ponto de entrada para todas as funcionalidades \n",
    "from pyspark.sql import SparkSession, Row\n",
    "import pyspark.sql.functions as F\n",
    "from pyspark.sql.functions import desc, asc,rank\n",
    "from pyspark.sql.functions import col\n",
    "from pyspark.sql.window import Window\n",
    "\n",
    "spark = SparkSession \\\n",
    ".builder \\\n",
    ".appName(\"Parte C\") \\\n",
    ".config(\"spark.some.config.option\") \\\n",
    ".getOrCreate()\n",
    "\n",
    "sc = spark.sparkContext"
   ]
  },
  {
   "cell_type": "code",
   "execution_count": 2,
   "metadata": {},
   "outputs": [],
   "source": [
    "#path do arquivo que contém os dados de entrada\n",
    "#Baixe o arquivo amazon-meta.txt.gz, de uma olhada no parser.py e rode: python3 parser.py > amazon.json\n",
    "path_file = \"amazon.json\"\n"
   ]
  },
  {
   "cell_type": "code",
   "execution_count": 3,
   "metadata": {},
   "outputs": [],
   "source": [
    "#Criação de um DataFrame com base no path (arquivo de entrada)\n",
    "df = spark.read.json(path_file)"
   ]
  },
  {
   "cell_type": "code",
   "execution_count": 4,
   "metadata": {},
   "outputs": [
    {
     "name": "stdout",
     "output_type": "stream",
     "text": [
      "root\n",
      " |-- ASIN: string (nullable = true)\n",
      " |-- categorie: array (nullable = true)\n",
      " |    |-- element: string (containsNull = true)\n",
      " |-- categories: string (nullable = true)\n",
      " |-- group: string (nullable = true)\n",
      " |-- id: string (nullable = true)\n",
      " |-- review_stats: string (nullable = true)\n",
      " |-- reviews: array (nullable = true)\n",
      " |    |-- element: struct (containsNull = true)\n",
      " |    |    |-- _date: string (nullable = true)\n",
      " |    |    |-- customer_id: string (nullable = true)\n",
      " |    |    |-- helpful: long (nullable = true)\n",
      " |    |    |-- rating: long (nullable = true)\n",
      " |    |    |-- votes: long (nullable = true)\n",
      " |-- salesrank: string (nullable = true)\n",
      " |-- similar_items: array (nullable = true)\n",
      " |    |-- element: string (containsNull = true)\n",
      " |-- title: string (nullable = true)\n",
      "\n"
     ]
    }
   ],
   "source": [
    "#Imprimir o esquema em um formato de árvore\n",
    "df.printSchema()"
   ]
  },
  {
   "cell_type": "code",
   "execution_count": 5,
   "metadata": {},
   "outputs": [],
   "source": [
    "df.createOrReplaceTempView(\"amazon\")"
   ]
  },
  {
   "cell_type": "markdown",
   "metadata": {},
   "source": [
    "#### (a) Dado produto, listar os 5 comentários mais úteis e com maior avaliação e os 5 comentários mais úteis e com menor avaliação"
   ]
  },
  {
   "cell_type": "code",
   "execution_count": 6,
   "metadata": {},
   "outputs": [
    {
     "name": "stdout",
     "output_type": "stream",
     "text": [
      "Solução com dataframe:\n",
      "+---------+--------------+-------+------+-----+---+\n",
      "|    _date|   customer_id|helpful|rating|votes| id|\n",
      "+---------+--------------+-------+------+-----+---+\n",
      "| 2002-2-6|A2P6KAWXJ16234|     16|     4|   16|  2|\n",
      "|2004-2-11|A1CP26N8RHYVVO|      9|     1|   13|  2|\n",
      "|2002-1-24|A13SG9ACZ9O5IM|      8|     5|    8|  2|\n",
      "|2002-5-23|A1GIL64QK68WKL|      8|     5|    8|  2|\n",
      "|2002-3-23|A3GO7UV9XX14D8|      6|     4|    6|  2|\n",
      "| 2002-2-6|A2P6KAWXJ16234|     16|     4|   16|  2|\n",
      "|2004-2-11|A1CP26N8RHYVVO|      9|     1|   13|  2|\n",
      "|2002-1-24|A13SG9ACZ9O5IM|      8|     5|    8|  2|\n",
      "|2002-5-23|A1GIL64QK68WKL|      8|     5|    8|  2|\n",
      "|2002-3-23|A3GO7UV9XX14D8|      6|     4|    6|  2|\n",
      "+---------+--------------+-------+------+-----+---+\n",
      "\n",
      "Solução com consulta SQL sobre uma view temporária:\n",
      "+---------+--------------+-------+------+-----+---+\n",
      "|    _date|   customer_id|helpful|rating|votes| id|\n",
      "+---------+--------------+-------+------+-----+---+\n",
      "| 2002-2-6|A2P6KAWXJ16234|     16|     4|   16|  2|\n",
      "|2004-2-11|A1CP26N8RHYVVO|      9|     1|   13|  2|\n",
      "|2002-1-24|A13SG9ACZ9O5IM|      8|     5|    8|  2|\n",
      "|2002-5-23|A1GIL64QK68WKL|      8|     5|    8|  2|\n",
      "|2002-3-23|A3GO7UV9XX14D8|      6|     4|    6|  2|\n",
      "| 2002-2-6|A2P6KAWXJ16234|     16|     4|   16|  2|\n",
      "|2004-2-11|A1CP26N8RHYVVO|      9|     1|   13|  2|\n",
      "|2002-1-24|A13SG9ACZ9O5IM|      8|     5|    8|  2|\n",
      "|2002-5-23|A1GIL64QK68WKL|      8|     5|    8|  2|\n",
      "|2002-3-23|A3GO7UV9XX14D8|      6|     4|    6|  2|\n",
      "+---------+--------------+-------+------+-----+---+\n",
      "\n"
     ]
    }
   ],
   "source": [
    "print(\"Solução com dataframe:\")\n",
    "df_a = df.filter(df.ASIN == '0738700797').select(\"id\",F.explode(df.reviews).alias('reviews')).select('reviews.*',\"id\")\n",
    "a_df_maior = df_a.sort(desc(\"helpful\"), desc(\"rating\")).limit(5)\n",
    "a_df_menor = df_a.sort(desc(\"helpful\"), asc(\"rating\")).limit(5)\n",
    "a_df = a_df_maior.unionByName(a_df_menor).show()\n",
    "\n",
    "print(\"Solução com consulta SQL sobre uma view temporária:\")\n",
    "df_a.createOrReplaceTempView(\"a\")\n",
    "a_sql = spark.sql(\"(SELECT a.* FROM a WHERE id='2' ORDER BY helpful DESC, rating DESC LIMIT 5) UNION ALL (SELECT a.* FROM a WHERE id='2' ORDER BY helpful DESC, rating ASC LIMIT 5)\")\n",
    "a_sql.show()\n",
    "\n",
    "\n"
   ]
  },
  {
   "cell_type": "markdown",
   "metadata": {},
   "source": [
    "#### (b) Dado um produto, listar os produtos similares com maiores vendas do que ele"
   ]
  },
  {
   "cell_type": "code",
   "execution_count": 7,
   "metadata": {},
   "outputs": [
    {
     "name": "stdout",
     "output_type": "stream",
     "text": [
      "Solução com dataframe:\n",
      "+--------------------+---------+\n",
      "|               title|salesrank|\n",
      "+--------------------+---------+\n",
      "|Midsummer: Magica...|   159277|\n",
      "|Yule: A Celebrati...|   103012|\n",
      "+--------------------+---------+\n",
      "\n",
      "Solução com consulta SQL sobre uma view temporária:\n"
     ]
    }
   ],
   "source": [
    "df_b = df.where(\"id=2\").select(df.salesrank.alias('salesrank_to_cmp'),F.explode(\"similar_items\").alias(\"ASIN\"))\n",
    "print(\"Solução com dataframe:\")\n",
    "b_df = df_b.join(df, df_b.ASIN == df.ASIN).where(df_b.salesrank_to_cmp > df.salesrank). \\\n",
    "select('title','salesrank')\n",
    "b_df.show()\n",
    "\n",
    "df_a.createOrReplaceTempView(\"b\")\n",
    "print(\"Solução com consulta SQL sobre uma view temporária:\")\n",
    "#b_sql = spark.sql(\"SELECT * FROM b,amazon WHERE amazon.id = b.id AND amazon.salesrank = b.ASIN AND b.salesrank_to_cmp > amazon.salesrank\")\n",
    "\n"
   ]
  },
  {
   "cell_type": "markdown",
   "metadata": {},
   "source": [
    "#### (c) Dado um produto, mostrar a evolução diária das médias de avaliação ao longo do intervalo de tempo coberto no arquivo de entrada"
   ]
  },
  {
   "cell_type": "code",
   "execution_count": 8,
   "metadata": {},
   "outputs": [
    {
     "name": "stdout",
     "output_type": "stream",
     "text": [
      "Solução com dataframe:\n",
      "+--------------------+----------+-----------------+\n",
      "|               title|      data|      avg(rating)|\n",
      "+--------------------+----------+-----------------+\n",
      "|Candlemas: Feast ...|2001-12-16|4.333333333333333|\n",
      "|Candlemas: Feast ...|  2002-1-7|4.333333333333333|\n",
      "|Candlemas: Feast ...| 2002-1-24|4.333333333333333|\n",
      "|Candlemas: Feast ...| 2002-1-28|4.333333333333333|\n",
      "|Candlemas: Feast ...|  2002-2-6|4.333333333333333|\n",
      "|Candlemas: Feast ...| 2002-2-14|4.333333333333333|\n",
      "|Candlemas: Feast ...| 2002-3-23|4.333333333333333|\n",
      "|Candlemas: Feast ...| 2002-5-23|4.333333333333333|\n",
      "|Candlemas: Feast ...| 2003-2-25|4.333333333333333|\n",
      "|Candlemas: Feast ...|2003-11-25|4.333333333333333|\n",
      "|Candlemas: Feast ...| 2004-2-11|4.333333333333333|\n",
      "|Candlemas: Feast ...|  2005-2-7|4.333333333333333|\n",
      "+--------------------+----------+-----------------+\n",
      "\n",
      "Solução com consulta SQL sobre uma view temporária:\n",
      "+--------------------+----------+-----------------+\n",
      "|               title|      data|      avg(rating)|\n",
      "+--------------------+----------+-----------------+\n",
      "|Candlemas: Feast ...|2001-12-16|4.333333333333333|\n",
      "|Candlemas: Feast ...|  2002-1-7|4.333333333333333|\n",
      "|Candlemas: Feast ...| 2002-1-24|4.333333333333333|\n",
      "|Candlemas: Feast ...| 2002-1-28|4.333333333333333|\n",
      "|Candlemas: Feast ...|  2002-2-6|4.333333333333333|\n",
      "|Candlemas: Feast ...| 2002-2-14|4.333333333333333|\n",
      "|Candlemas: Feast ...| 2002-3-23|4.333333333333333|\n",
      "|Candlemas: Feast ...| 2002-5-23|4.333333333333333|\n",
      "|Candlemas: Feast ...| 2003-2-25|4.333333333333333|\n",
      "|Candlemas: Feast ...|2003-11-25|4.333333333333333|\n",
      "|Candlemas: Feast ...| 2004-2-11|4.333333333333333|\n",
      "|Candlemas: Feast ...|  2005-2-7|4.333333333333333|\n",
      "+--------------------+----------+-----------------+\n",
      "\n"
     ]
    }
   ],
   "source": [
    "df_c = df.where(\"id=2\").select(\"title\",F.explode(\"reviews._date\").alias(\"data\"))\n",
    "c_join = df_c.join(df, df_c.title == df.title).select(df_c.title,df_c.data,F.explode(\"reviews.rating\").alias(\"rating\"))\n",
    "c_join.createOrReplaceTempView(\"c\")\n",
    "\n",
    "print(\"Solução com dataframe:\")\n",
    "c_df = c_join.groupBy(\"title\",\"data\").agg({'rating':'avg'}).show()\n",
    "\n",
    "print(\"Solução com consulta SQL sobre uma view temporária:\")\n",
    "c_sql = spark.sql(\"SELECT title, data, avg(rating) FROM c GROUP BY title,data\")\n",
    "c_sql.show()"
   ]
  },
  {
   "cell_type": "markdown",
   "metadata": {},
   "source": [
    "#### (d) Listar os 10 produtos lideres de venda em cada grupo de produtos"
   ]
  },
  {
   "cell_type": "code",
   "execution_count": 9,
   "metadata": {},
   "outputs": [
    {
     "name": "stdout",
     "output_type": "stream",
     "text": [
      "Solução com dataframe:\n",
      "+------------+--------------------+---------+----+\n",
      "|       group|               title|salesrank|rank|\n",
      "+------------+--------------------+---------+----+\n",
      "|       Video|The War of the Wo...|        1|   1|\n",
      "|       Video|Snow White and th...|      100|   2|\n",
      "|       Video|Pearl (The Minise...|     1000|   3|\n",
      "|       Video|  Two for the Seesaw|    10001|   4|\n",
      "|       Video|Highlights of the...|    10002|   5|\n",
      "|       Video|Madeline - Cookin...|    10003|   6|\n",
      "|       Video|Swiss Family Robi...|   100048|   7|\n",
      "|       Video|Commercial Explos...|   100058|   8|\n",
      "|       Video|The Original Volt...|    10006|   9|\n",
      "|       Video|The Ford Show Cla...|   100067|  10|\n",
      "|         Toy|Party Tyme Karaok...|    10732|   1|\n",
      "|         Toy|Wizard Card Game ...|     1890|   2|\n",
      "|         Toy|Photostory Junior...|     2288|   3|\n",
      "|         Toy|The Songs of Brit...|    31296|   4|\n",
      "|         Toy|Party Tyme Karaok...|     4053|   5|\n",
      "|         Toy|R- Photostory Senior|    45241|   6|\n",
      "|         Toy|  IlluStory Book Kit|       59|   7|\n",
      "|         Toy|Party Tyme Karaok...|     7812|   8|\n",
      "|         DVD|Yoga Journal's Yo...|    10002|   1|\n",
      "|         DVD| The Nutty Professor|    10004|   2|\n",
      "|         DVD|The Alec Guinness...|    10004|   2|\n",
      "|         DVD|    Frankie & Johnny|    10006|   4|\n",
      "|         DVD|  Out of Sight - DTS|    10008|   5|\n",
      "|         DVD|The Twilight Zone...|    10018|   6|\n",
      "|         DVD|          Youngblood|    10024|   7|\n",
      "|         DVD|Shirley Temple Th...|    10026|   8|\n",
      "|         DVD|          Femalien 2|    10029|   9|\n",
      "|         DVD|             Shivers|    10029|   9|\n",
      "|      Sports|Yoga Kit Living Arts|     4684|   1|\n",
      "|Baby Product|Baby'S Record Kee...|     1017|   1|\n",
      "| Video Games|PRIMA PUBLISHING ...|      339|   1|\n",
      "|        Book|Robert's Rules of...|     1000|   1|\n",
      "|        Book|Information Techn...|  1000009|   2|\n",
      "|        Book|How to Form a Cor...|  1000015|   3|\n",
      "|        Book|Color-Line to Bor...|  1000028|   4|\n",
      "|        Book|Monologues for Yo...|   100003|   5|\n",
      "|        Book|Titus Andronicus ...|  1000038|   6|\n",
      "|        Book|Electrical Transf...|  1000039|   7|\n",
      "|        Book|    Picasso's War CD|  1000043|   8|\n",
      "|        Book|            The Hole|   100005|   9|\n",
      "|        Book|     Fruitful Living|  1000050|  10|\n",
      "|       Music|Take Away the Pai...|   100001|   1|\n",
      "|       Music|Man Of Steel: Ori...|   100004|   2|\n",
      "|       Music|Artists Of The Ce...|   100006|   3|\n",
      "|       Music|Shaking the Tree:...|   100007|   4|\n",
      "|       Music|      Tower of Power|    10001|   5|\n",
      "|       Music|                Zehn|   100012|   6|\n",
      "|       Music|The Out Sound fro...|   100014|   7|\n",
      "|       Music|    The Beat of Love|   100014|   7|\n",
      "|       Music|          God @ Work|   100014|   7|\n",
      "|       Music|Hughes Turner Pro...|   100016|  10|\n",
      "|    Software|Zondervan Bible S...|     1955|   1|\n",
      "|    Software|ClickArt Christia...|      200|   2|\n",
      "|    Software|RINGDISC Wagner: ...|      327|   3|\n",
      "|    Software|Just Enough Vocal...|     3771|   4|\n",
      "|    Software|WINDOWS NT SERVER...|     3828|   5|\n",
      "|          CE|  SPELLING CORRECTOR|    39367|   1|\n",
      "|          CE|Hal Leonard Begin...|    69089|   2|\n",
      "|          CE|Hal Leonard Begin...|    71678|   3|\n",
      "|          CE|FRANKLIN COMP. KJ...|    84976|   4|\n",
      "+------------+--------------------+---------+----+\n",
      "\n",
      "Solução com consulta SQL sobre uma view temporária:\n"
     ]
    }
   ],
   "source": [
    "print(\"Solução com dataframe:\")\n",
    "windows = Window.partitionBy(df['group']).orderBy(df.salesrank.asc())\n",
    "df_d = df.where('salesrank >= 1').select('group','title','salesrank', rank().over(windows).alias('rank')).where(col('rank') <= 10).show(160)\n",
    "\n",
    "print(\"Solução com consulta SQL sobre uma view temporária:\")"
   ]
  },
  {
   "cell_type": "markdown",
   "metadata": {},
   "source": [
    "#### (e) Listar os 10 produtos com a maior média de avaliações úteis positivas por produto"
   ]
  },
  {
   "cell_type": "code",
   "execution_count": 10,
   "metadata": {},
   "outputs": [
    {
     "name": "stdout",
     "output_type": "stream",
     "text": [
      "Solução com dataframe:\n",
      "+--------------------+------------------+\n",
      "|               title|      avg(helpful)|\n",
      "+--------------------+------------------+\n",
      "|Understanding Lov...|             243.0|\n",
      "|T'ai Chi for Olde...|             233.0|\n",
      "|More Than Just Ho...|             203.0|\n",
      "|Crockpot Cookery ...|             197.0|\n",
      "|Creative Interven...|             196.0|\n",
      "|The Story About Ping|186.46511627906978|\n",
      "|The Story About P...|186.34883720930233|\n",
      "|The Story about P...|186.32558139534885|\n",
      "|The Story about Ping|186.30232558139534|\n",
      "|The Smoked-Foods ...|             183.0|\n",
      "+--------------------+------------------+\n",
      "\n",
      "Solução com consulta SQL sobre uma view temporária:\n",
      "+--------------------+------------------+\n",
      "|               title|      avg(helpful)|\n",
      "+--------------------+------------------+\n",
      "|Understanding Lov...|             243.0|\n",
      "|T'ai Chi for Olde...|             233.0|\n",
      "|More Than Just Ho...|             203.0|\n",
      "|Crockpot Cookery ...|             197.0|\n",
      "|Creative Interven...|             196.0|\n",
      "|The Story About Ping|186.46511627906978|\n",
      "|The Story About P...|186.34883720930233|\n",
      "|The Story about P...|186.32558139534885|\n",
      "|The Story about Ping|186.30232558139534|\n",
      "|The Smoked-Foods ...|             183.0|\n",
      "+--------------------+------------------+\n",
      "\n"
     ]
    }
   ],
   "source": [
    "df1 = df.select(\"title\",F.explode(\"reviews.helpful\").alias(\"helpful\"))\n",
    "df1.createOrReplaceTempView(\"help\")\n",
    "\n",
    "print(\"Solução com dataframe:\")\n",
    "df_e = df1.groupBy(\"title\").agg({'helpful':'avg'})\n",
    "e_df =  df_e.sort(desc(\"avg(helpful)\")).limit(10).show()\n",
    "\n",
    "print(\"Solução com consulta SQL sobre uma view temporária:\")\n",
    "e_sql = spark.sql(\"SELECT title, avg(helpful) FROM help GROUP BY title ORDER BY avg(helpful) DESC LIMIT 10\")\n",
    "e_sql.show()"
   ]
  },
  {
   "cell_type": "markdown",
   "metadata": {},
   "source": [
    "#### (f) Listar a 5 categorias de produto com a maior média de avaliações úteis positivas por produto"
   ]
  },
  {
   "cell_type": "code",
   "execution_count": 11,
   "metadata": {},
   "outputs": [
    {
     "name": "stdout",
     "output_type": "stream",
     "text": [
      "Solução com dataframe:\n",
      "+--------------------+------------------+\n",
      "|           categorie|      avg(helpful)|\n",
      "+--------------------+------------------+\n",
      "|[|Books[283155]|S...|             196.0|\n",
      "|[|Books[283155]|S...|186.46511627906978|\n",
      "|[|Books[283155]|S...|186.34883720930233|\n",
      "|[|Books[283155]|F...|186.32558139534885|\n",
      "|[|Books[283155]|S...|186.30232558139534|\n",
      "+--------------------+------------------+\n",
      "\n",
      "Solução com consulta SQL sobre uma view temporária:\n",
      "+--------------------+------------------+\n",
      "|           categorie|      avg(helpful)|\n",
      "+--------------------+------------------+\n",
      "|[|Books[283155]|S...|             196.0|\n",
      "|[|Books[283155]|S...|186.46511627906978|\n",
      "|[|Books[283155]|S...|186.34883720930233|\n",
      "|[|Books[283155]|F...|186.32558139534885|\n",
      "|[|Books[283155]|S...|186.30232558139534|\n",
      "+--------------------+------------------+\n",
      "\n"
     ]
    }
   ],
   "source": [
    "dfn = df.select(\"categorie\",F.explode(\"reviews.helpful\").alias(\"helpful\"))\n",
    "dfn.createOrReplaceTempView(\"f\")\n",
    "\n",
    "print(\"Solução com dataframe:\")\n",
    "df_f = dfn.groupBy(\"categorie\").agg({'helpful':'avg'})\n",
    "f_df =  df_f.sort(desc(\"avg(helpful)\")).limit(5).show()\n",
    "\n",
    "print(\"Solução com consulta SQL sobre uma view temporária:\")\n",
    "f_sql = spark.sql(\"SELECT categorie, avg(helpful) FROM f GROUP BY categorie ORDER BY avg(helpful) DESC LIMIT 5\")\n",
    "f_sql.show()"
   ]
  },
  {
   "cell_type": "markdown",
   "metadata": {},
   "source": [
    "#### (g) Listar os 10 clientes que mais fizeram comentários por grupo de produto"
   ]
  },
  {
   "cell_type": "code",
   "execution_count": 12,
   "metadata": {},
   "outputs": [
    {
     "name": "stdout",
     "output_type": "stream",
     "text": [
      "Solução com dataframe:\n",
      "Solução com consulta SQL sobre uma view temporária:\n"
     ]
    }
   ],
   "source": [
    "print(\"Solução com dataframe:\")\n",
    "\n",
    "\n",
    "print(\"Solução com consulta SQL sobre uma view temporária:\")"
   ]
  }
 ],
 "metadata": {
  "kernelspec": {
   "display_name": "Python 3",
   "language": "python",
   "name": "python3"
  },
  "language_info": {
   "codemirror_mode": {
    "name": "ipython",
    "version": 3
   },
   "file_extension": ".py",
   "mimetype": "text/x-python",
   "name": "python",
   "nbconvert_exporter": "python",
   "pygments_lexer": "ipython3",
   "version": "3.6.9"
  }
 },
 "nbformat": 4,
 "nbformat_minor": 4
}
